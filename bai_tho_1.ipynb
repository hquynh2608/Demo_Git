{
 "cells": [
  {
   "cell_type": "code",
   "execution_count": null,
   "id": "5f88703d",
   "metadata": {},
   "outputs": [],
   "source": [
    "Sao anh không về chơi thôn Vĩ?\n",
    "Nhìn nắng hàng cau nắng mới lên.\n",
    "Vườn ai mướt quá xanh như ngọc\n",
    "Lá trúc che ngang mặt chữ điền.\n",
    "Gió theo lối gió, mây đường mây,\n",
    "Dòng nước buồn thiu, hoa bắp lay...\n",
    "Thuyền ai đậu bến sông trăng đó,\n",
    "Có chở trăng về kịp tối nay?\n",
    "Mơ khách đường xa, khách đường xa\n",
    "Áo em trắng quá nhìn không ra...\n",
    "Ở đây sương khói mờ nhân ảnh\n",
    "Ai biết tình ai có đậm đà?\n",
    "\n"
   ]
  }
 ],
 "metadata": {
  "kernelspec": {
   "display_name": "Python 3",
   "language": "python",
   "name": "python3"
  },
  "language_info": {
   "codemirror_mode": {
    "name": "ipython",
    "version": 3
   },
   "file_extension": ".py",
   "mimetype": "text/x-python",
   "name": "python",
   "nbconvert_exporter": "python",
   "pygments_lexer": "ipython3",
   "version": "3.8.8"
  }
 },
 "nbformat": 4,
 "nbformat_minor": 5
}
