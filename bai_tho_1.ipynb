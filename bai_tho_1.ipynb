{
 "cells": [
  {
   "cell_type": "code",
   "execution_count": null,
   "id": "5f88703d",
   "metadata": {},
   "outputs": [],
   "source": [
    "Sao anh không về chơi thôn Vĩ?\n",
    "Nhìn nắng hàng cau nắng mới lên.\n",
    "Vườn ai mướt quá xanh như ngọc\n",
    "Lá trúc che ngang mặt chữ điền."
   ]
  }
 ],
 "metadata": {
  "kernelspec": {
   "display_name": "Python 3",
   "language": "python",
   "name": "python3"
  },
  "language_info": {
   "codemirror_mode": {
    "name": "ipython",
    "version": 3
   },
   "file_extension": ".py",
   "mimetype": "text/x-python",
   "name": "python",
   "nbconvert_exporter": "python",
   "pygments_lexer": "ipython3",
   "version": "3.8.8"
  }
 },
 "nbformat": 4,
 "nbformat_minor": 5
}
